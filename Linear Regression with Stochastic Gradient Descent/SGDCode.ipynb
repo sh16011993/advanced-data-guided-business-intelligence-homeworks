{
 "cells": [
  {
   "cell_type": "code",
   "execution_count": 1,
   "metadata": {},
   "outputs": [],
   "source": [
    "#Name: Shashank Shekhar [sshekha4]\n",
    "## Discussed with: Rahul Aettapu [raettap]\n",
    "# Basketball Dataset Taken: http://college.cengage.com/mathematics/brase/understandable_statistics/7e/students/datasets/mlr/frames/frame.html"
   ]
  },
  {
   "cell_type": "code",
   "execution_count": 2,
   "metadata": {},
   "outputs": [],
   "source": [
    "import pandas as pd\n",
    "import numpy as np\n",
    "from random import seed\n",
    "from math import sqrt\n",
    "from sklearn.model_selection import KFold\n",
    "from sklearn.linear_model import SGDRegressor\n",
    "import matplotlib.pyplot as plt\n",
    "import random\n",
    "import csv\n",
    "## Seed value for split\n",
    "seed(123)"
   ]
  },
  {
   "cell_type": "code",
   "execution_count": 3,
   "metadata": {},
   "outputs": [],
   "source": [
    "# Loading CSV file\n",
    "def load_csv(filename):\n",
    "    with open(filename, 'r') as f:\n",
    "        reader = csv.reader(f, delimiter=',')\n",
    "        # get header from first row\n",
    "        headers = next(reader)\n",
    "        data = list(reader)\n",
    "        data = np.array(data).astype(float)\n",
    "    return data"
   ]
  },
  {
   "cell_type": "code",
   "execution_count": 4,
   "metadata": {},
   "outputs": [],
   "source": [
    "data = load_csv('./Basketball.csv')"
   ]
  },
  {
   "cell_type": "code",
   "execution_count": 5,
   "metadata": {},
   "outputs": [
    {
     "name": "stdout",
     "output_type": "stream",
     "text": [
      "[[0.57894737 0.75949367 0.49025974 0.65243902 0.2601626 ]\n",
      " [0.31578947 0.47468354 0.46753247 0.8429878  0.36178862]\n",
      " [0.36842105 0.53797468 0.53571429 0.78810976 0.52845528]\n",
      " [0.26315789 0.47468354 0.40584416 0.62042683 0.23577236]\n",
      " [0.63157895 0.63291139 0.51298701 1.         0.82926829]\n",
      " [0.36842105 0.75949367 0.45454545 0.81707317 1.        ]\n",
      " [0.31578947 0.50632911 0.63636364 0.80335366 0.26422764]\n",
      " [0.57894737 0.82278481 0.57792208 0.77134146 0.53658537]\n",
      " [0.63157895 0.82278481 0.46753247 0.875      0.07723577]\n",
      " [0.52631579 0.66455696 0.61363636 0.88567073 0.39430894]\n",
      " [0.63157895 0.88607595 0.73051948 0.59146341 0.70325203]\n",
      " [0.63157895 0.88607595 0.65584416 0.7820122  0.25609756]\n",
      " [0.31578947 0.50632911 0.26948052 0.70884146 0.21544715]\n",
      " [0.21052632 0.50632911 0.43181818 0.82012195 0.23577236]\n",
      " [0.26315789 0.47468354 0.48701299 0.80945122 0.71138211]\n",
      " [0.57894737 0.7278481  0.68831169 0.9695122  0.90243902]\n",
      " [0.42105263 0.56329114 0.68831169 0.89786585 0.66666667]\n",
      " [1.         0.75949367 0.43506494 0.49847561 0.0203252 ]\n",
      " [0.31578947 0.66455696 0.25974026 0.87195122 0.34146341]\n",
      " [0.73684211 0.85443038 0.69155844 0.71646341 0.31300813]\n",
      " [0.57894737 0.75949367 0.3538961  0.79420732 0.29674797]\n",
      " [0.84210526 1.         0.62012987 0.62652439 0.17886179]\n",
      " [0.36842105 0.66455696 0.5974026  0.         0.43902439]\n",
      " [0.57894737 0.82278481 0.44480519 0.73780488 0.25203252]\n",
      " [0.78947368 0.79113924 0.87012987 0.72713415 0.88617886]\n",
      " [0.36842105 0.53797468 0.48701299 0.7820122  0.39837398]\n",
      " [0.47368421 0.7278481  0.6525974  0.76676829 0.11382114]\n",
      " [0.57894737 0.66455696 0.36038961 0.75457317 0.2398374 ]\n",
      " [0.21052632 0.47468354 0.4025974  0.71493902 0.19918699]\n",
      " [0.42105263 0.82278481 0.6525974  0.75914634 0.86585366]\n",
      " [0.36842105 0.50632911 0.62662338 0.94054878 0.36178862]\n",
      " [0.15789474 0.44303797 0.31168831 0.72713415 0.19918699]\n",
      " [0.15789474 0.55063291 0.47077922 0.82469512 0.27642276]\n",
      " [0.84210526 1.         0.62012987 0.62652439 0.17886179]\n",
      " [0.21052632 0.47468354 0.15909091 0.87957317 0.38617886]\n",
      " [0.52631579 0.85443038 0.73051948 0.73780488 0.24796748]\n",
      " [0.36842105 0.66455696 0.5974026  0.91768293 0.43902439]\n",
      " [0.05263158 0.34810127 0.39285714 0.86737805 0.34146341]\n",
      " [0.63157895 0.79113924 0.38961039 0.53506098 0.        ]\n",
      " [0.68421053 0.88607595 0.37662338 0.50152439 0.01626016]\n",
      " [0.84210526 0.77848101 0.5        0.7347561  0.26829268]\n",
      " [0.10526316 0.3164557  0.         0.70579268 0.3699187 ]\n",
      " [0.26315789 0.60126582 0.51298701 0.85365854 0.51219512]\n",
      " [0.57894737 0.82278481 0.82792208 0.82317073 0.18699187]\n",
      " [0.68421053 0.82278481 0.61363636 0.76219512 0.65447154]\n",
      " [0.10526316 0.         0.22077922 0.9070122  0.20731707]\n",
      " [0.21052632 0.47468354 0.76948052 0.83231707 0.38211382]\n",
      " [0.         0.50632911 0.19805195 0.69664634 0.33333333]\n",
      " [0.73684211 0.88607595 0.39935065 0.81402439 0.        ]\n",
      " [0.05263158 0.47468354 0.43506494 0.95731707 0.36585366]\n",
      " [0.89473684 0.85443038 1.         0.71493902 0.58130081]\n",
      " [0.57894737 0.75949367 0.62012987 0.69664634 0.35772358]\n",
      " [0.57894737 0.69620253 0.53896104 0.74695122 0.12195122]\n",
      " [0.68421053 0.79113924 0.46753247 0.79268293 0.22357724]]\n"
     ]
    }
   ],
   "source": [
    "## Normalizing the data (all the columns)\n",
    "for ind in range(len(data[0])):\n",
    "    column = [row[ind] for row in data]\n",
    "    minval = min(column)\n",
    "    maxval = max(column)\n",
    "    for i in range(len(column)):\n",
    "        data[i][ind] = (column[i] - minval)/(maxval - minval)\n",
    "print(data)"
   ]
  },
  {
   "cell_type": "code",
   "execution_count": 6,
   "metadata": {},
   "outputs": [],
   "source": [
    "def find_yhat(coef, row):\n",
    "    yhat = coef[0]\n",
    "    for i in range(len(row)-1):\n",
    "        yhat += coef[i+1]*row[i]\n",
    "    return yhat"
   ]
  },
  {
   "cell_type": "code",
   "execution_count": 7,
   "metadata": {},
   "outputs": [],
   "source": [
    "def make_test_predictions(train, test, l_rate, t_epochs, lambdaval):\n",
    "    predictions = []\n",
    "    coef = [0.0 for i in range(len(train[0]))]\n",
    "    for epoch in range(t_epochs):\n",
    "        sum_error = 0.0\n",
    "        for row in train:\n",
    "            yhat = find_yhat(coef, row)\n",
    "            error = row[-1] - yhat\n",
    "            sum_error += error**2\n",
    "            coef[0] = coef[0] + (2*l_rate*error) - (2*l_rate*lambdaval*coef[0])\n",
    "            for i in range(len(row)-1):\n",
    "                coef[i+1] = coef[i+1] + (2*l_rate*error*row[i]) - (2*l_rate*lambdaval*coef[i+1])\n",
    "#         print('#Epoch={0}, lrate={1}, error={2}'.format(epoch, l_rate, sum_error))\n",
    "#     print('')\n",
    "#     print('')\n",
    "    for row in test:\n",
    "        yhat = find_yhat(coef, row)\n",
    "        predictions.append(yhat)\n",
    "    return predictions"
   ]
  },
  {
   "cell_type": "code",
   "execution_count": 8,
   "metadata": {},
   "outputs": [],
   "source": [
    "### Experimental Section Starts\n",
    "# def make_test_predictions(train, test, l_rate, t_epochs, lambdaval):\n",
    "#     predictions = []\n",
    "#     coef = [0.0 for i in range(len(train[0]))]\n",
    "#     for epoch in range(t_epochs):\n",
    "#         sum_error = 0.0\n",
    "#         coef0_gradient = 0.0\n",
    "#         coef_gradients = [0.0 for i in range(len(train[0]))]\n",
    "#         for row in train:\n",
    "#             yhat = find_yhat(coef, row)\n",
    "#             error = row[-1] - yhat\n",
    "#             sum_error += error**2\n",
    "#             coef0_gradient += ((-2.0/len(train))*(error-(lambdaval*coef[0])))\n",
    "#             for i in range(len(row)-1):\n",
    "#                 coef_gradients[i+1] += ((-2.0/len(train))*((row[i]*error)-(lambdaval*coef[i+1])))\n",
    "#         coef[0] -= (l_rate*coef0_gradient)\n",
    "#         for i in range(len(row)-1):\n",
    "#             coef[i+1] -= (l_rate*coef_gradients[i+1])\n",
    "#         print('#Epoch={0}, lrate={1}, error={2}'.format(epoch, l_rate, sum_error))\n",
    "#     for row in test:\n",
    "#         yhat = find_yhat(coef, row)\n",
    "#         predictions.append(yhat)\n",
    "#     return predictions\n",
    "### Experimental Section Ends"
   ]
  },
  {
   "cell_type": "code",
   "execution_count": 9,
   "metadata": {},
   "outputs": [],
   "source": [
    "def find_rmse(preds, trvals):\n",
    "    sum_error = 0.0\n",
    "    for i in range(len(preds)):\n",
    "        sum_error += (preds[i] - trvals[i])**2\n",
    "    mean_error = sum_error/float(len(trvals))\n",
    "    return sqrt(mean_error)"
   ]
  },
  {
   "cell_type": "code",
   "execution_count": 10,
   "metadata": {},
   "outputs": [],
   "source": [
    "## Hyperparameters - total_folds, learning_rate, total_epochs\n",
    "total_folds = 5\n",
    "learning_rate = 0.001\n",
    "total_epochs = 15\n",
    "lambdaval = 0.001\n",
    "# Performing Split\n",
    "kf = KFold(n_splits=total_folds, shuffle=True)\n",
    "rmse_across_folds = []\n",
    "test_rmse_across_folds = []"
   ]
  },
  {
   "cell_type": "code",
   "execution_count": 11,
   "metadata": {},
   "outputs": [],
   "source": [
    "def performSGD(lambdaval, total_epochs):\n",
    "    for train_index, test_index in kf.split(data):\n",
    "        train_data = []\n",
    "        for i in range(len(train_index)):\n",
    "            train_data.append(data[i])\n",
    "        test_data = []\n",
    "        for i in range(len(test_index)):\n",
    "            test_data.append(data[i])\n",
    "        predictions = make_test_predictions(train_data, test_data, learning_rate, total_epochs, lambdaval)\n",
    "        truevalues = [row[-1] for row in test_data]\n",
    "        rmse = find_rmse(predictions, truevalues)\n",
    "        rmse_across_folds.append(rmse)\n",
    "    return sum(rmse_across_folds)/float(len(rmse_across_folds))"
   ]
  },
  {
   "cell_type": "code",
   "execution_count": 12,
   "metadata": {},
   "outputs": [],
   "source": [
    "def testSGD(lambdaval, total_epochs):\n",
    "    ## Since the seed is fixed, the same split happens again\n",
    "    for train_index, test_index in kf.split(data):\n",
    "        train_data = []\n",
    "        for i in range(len(train_index)):\n",
    "            train_data.append(data[i])\n",
    "        test_data = []\n",
    "        for i in range(len(test_index)):\n",
    "            test_data.append(data[i])\n",
    "        ## Testing Part\n",
    "        clf = SGDRegressor(alpha=lambdaval, max_iter=total_epochs, loss='squared_loss', penalty='l2')\n",
    "        clf.fit([row[:-1] for row in train_data], [row[-1] for row in train_data])\n",
    "        test_predictions = clf.predict([row[:-1] for row in test_data])\n",
    "        truevalues = [row[-1] for row in test_data]\n",
    "        test_rmse = find_rmse(test_predictions, truevalues)\n",
    "        test_rmse_across_folds.append(test_rmse)\n",
    "    return sum(test_rmse_across_folds)/float(len(test_rmse_across_folds))"
   ]
  },
  {
   "cell_type": "code",
   "execution_count": 13,
   "metadata": {},
   "outputs": [
    {
     "name": "stdout",
     "output_type": "stream",
     "text": [
      "#Epoch=0, lrate=0.001, error=8.832887170335121\n",
      "#Epoch=1, lrate=0.001, error=8.769851858103879\n",
      "#Epoch=2, lrate=0.001, error=8.707447087726193\n",
      "#Epoch=3, lrate=0.001, error=8.645666543940703\n",
      "#Epoch=4, lrate=0.001, error=8.584503974741754\n",
      "#Epoch=5, lrate=0.001, error=8.523953190745788\n",
      "#Epoch=6, lrate=0.001, error=8.464008064564117\n",
      "#Epoch=7, lrate=0.001, error=8.404662530181891\n",
      "#Epoch=8, lrate=0.001, error=8.345910582343393\n",
      "#Epoch=9, lrate=0.001, error=8.287746275943416\n",
      "#Epoch=10, lrate=0.001, error=8.230163725424761\n",
      "#Epoch=11, lrate=0.001, error=8.173157104181781\n",
      "#Epoch=12, lrate=0.001, error=8.116720643969883\n",
      "#Epoch=13, lrate=0.001, error=8.06084863432094\n",
      "#Epoch=14, lrate=0.001, error=8.00553542196459\n",
      "#Epoch=0, lrate=0.001, error=8.832887170335121\n",
      "#Epoch=1, lrate=0.001, error=8.769851858103879\n",
      "#Epoch=2, lrate=0.001, error=8.707447087726193\n",
      "#Epoch=3, lrate=0.001, error=8.645666543940703\n",
      "#Epoch=4, lrate=0.001, error=8.584503974741754\n",
      "#Epoch=5, lrate=0.001, error=8.523953190745788\n",
      "#Epoch=6, lrate=0.001, error=8.464008064564117\n",
      "#Epoch=7, lrate=0.001, error=8.404662530181891\n",
      "#Epoch=8, lrate=0.001, error=8.345910582343393\n",
      "#Epoch=9, lrate=0.001, error=8.287746275943416\n",
      "#Epoch=10, lrate=0.001, error=8.230163725424761\n",
      "#Epoch=11, lrate=0.001, error=8.173157104181781\n",
      "#Epoch=12, lrate=0.001, error=8.116720643969883\n",
      "#Epoch=13, lrate=0.001, error=8.06084863432094\n",
      "#Epoch=14, lrate=0.001, error=8.00553542196459\n",
      "#Epoch=0, lrate=0.001, error=8.832887170335121\n",
      "#Epoch=1, lrate=0.001, error=8.769851858103879\n",
      "#Epoch=2, lrate=0.001, error=8.707447087726193\n",
      "#Epoch=3, lrate=0.001, error=8.645666543940703\n",
      "#Epoch=4, lrate=0.001, error=8.584503974741754\n",
      "#Epoch=5, lrate=0.001, error=8.523953190745788\n",
      "#Epoch=6, lrate=0.001, error=8.464008064564117\n",
      "#Epoch=7, lrate=0.001, error=8.404662530181891\n",
      "#Epoch=8, lrate=0.001, error=8.345910582343393\n",
      "#Epoch=9, lrate=0.001, error=8.287746275943416\n",
      "#Epoch=10, lrate=0.001, error=8.230163725424761\n",
      "#Epoch=11, lrate=0.001, error=8.173157104181781\n",
      "#Epoch=12, lrate=0.001, error=8.116720643969883\n",
      "#Epoch=13, lrate=0.001, error=8.06084863432094\n",
      "#Epoch=14, lrate=0.001, error=8.00553542196459\n",
      "#Epoch=0, lrate=0.001, error=8.832887170335121\n",
      "#Epoch=1, lrate=0.001, error=8.769851858103879\n",
      "#Epoch=2, lrate=0.001, error=8.707447087726193\n",
      "#Epoch=3, lrate=0.001, error=8.645666543940703\n",
      "#Epoch=4, lrate=0.001, error=8.584503974741754\n",
      "#Epoch=5, lrate=0.001, error=8.523953190745788\n",
      "#Epoch=6, lrate=0.001, error=8.464008064564117\n",
      "#Epoch=7, lrate=0.001, error=8.404662530181891\n",
      "#Epoch=8, lrate=0.001, error=8.345910582343393\n",
      "#Epoch=9, lrate=0.001, error=8.287746275943416\n",
      "#Epoch=10, lrate=0.001, error=8.230163725424761\n",
      "#Epoch=11, lrate=0.001, error=8.173157104181781\n",
      "#Epoch=12, lrate=0.001, error=8.116720643969883\n",
      "#Epoch=13, lrate=0.001, error=8.06084863432094\n",
      "#Epoch=14, lrate=0.001, error=8.00553542196459\n",
      "#Epoch=0, lrate=0.001, error=8.867853129750813\n",
      "#Epoch=1, lrate=0.001, error=8.804635723278647\n",
      "#Epoch=2, lrate=0.001, error=8.742055213375352\n",
      "#Epoch=3, lrate=0.001, error=8.680105175790622\n",
      "#Epoch=4, lrate=0.001, error=8.618779251078902\n",
      "#Epoch=5, lrate=0.001, error=8.558071143945645\n",
      "#Epoch=6, lrate=0.001, error=8.497974622600173\n",
      "#Epoch=7, lrate=0.001, error=8.438483518115081\n",
      "#Epoch=8, lrate=0.001, error=8.379591723792055\n",
      "#Epoch=9, lrate=0.001, error=8.321293194534144\n",
      "#Epoch=10, lrate=0.001, error=8.26358194622433\n",
      "#Epoch=11, lrate=0.001, error=8.206452055110374\n",
      "#Epoch=12, lrate=0.001, error=8.149897657195886\n",
      "#Epoch=13, lrate=0.001, error=8.093912947637504\n",
      "#Epoch=14, lrate=0.001, error=8.038492180148179\n",
      "Output and Expected average RMSE values match\n"
     ]
    }
   ],
   "source": [
    "## If looking to print the errors per epoch, uncomment the print statement in make_test_predictions function\n",
    "if(abs(performSGD(lambdaval, total_epochs) - testSGD(lambdaval, total_epochs)) <= 1):\n",
    "    print('Output and Expected average RMSE values match')\n",
    "else:\n",
    "    print('Output and Expected average RMSE values don\\'t match')"
   ]
  },
  {
   "cell_type": "code",
   "execution_count": 14,
   "metadata": {},
   "outputs": [
    {
     "name": "stdout",
     "output_type": "stream",
     "text": [
      "RMSE errors across folds:  [0.5176399978475063, 0.5176399978475063, 0.5176399978475063, 0.5176399978475063, 0.4996685830333484]\n",
      "Mean RMSE: 0.5140457148846747\n",
      "Test RMSE errors across folds (using SGDRegressor):  [0.27485135153926765, 0.2752440743751121, 0.274630817872851, 0.27502871412906826, 0.27357122776068715]\n",
      "Test Mean RMSE (using SGDRegressor): 0.27466523713539726\n"
     ]
    }
   ],
   "source": [
    "print('RMSE errors across folds: ', rmse_across_folds)\n",
    "print('Mean RMSE: {0}'.format(sum(rmse_across_folds)/float(len(rmse_across_folds))))\n",
    "\n",
    "## Below is the Test RMSE using SGD Regressor\n",
    "print('Test RMSE errors across folds (using SGDRegressor): ', test_rmse_across_folds)\n",
    "print('Test Mean RMSE (using SGDRegressor): {0}'.format(sum(test_rmse_across_folds)/float(len(test_rmse_across_folds))))"
   ]
  }
 ],
 "metadata": {
  "kernelspec": {
   "display_name": "Python 3",
   "language": "python",
   "name": "python3"
  },
  "language_info": {
   "codemirror_mode": {
    "name": "ipython",
    "version": 3
   },
   "file_extension": ".py",
   "mimetype": "text/x-python",
   "name": "python",
   "nbconvert_exporter": "python",
   "pygments_lexer": "ipython3",
   "version": "3.7.0"
  }
 },
 "nbformat": 4,
 "nbformat_minor": 2
}
